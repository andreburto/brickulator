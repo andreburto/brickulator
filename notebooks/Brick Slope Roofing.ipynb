{
 "cells": [
  {
   "cell_type": "markdown",
   "metadata": {},
   "source": [
    "## Calculating the slope bricks needed for a square roof\n"
   ]
  },
  {
   "cell_type": "markdown",
   "metadata": {},
   "source": [
    "### The algorithm for calculating the peg count of a square roof\n",
    "\n",
    "If you start with a square roof that's 8 pegs wide on a side, the next level will be 6, then 4, and finally the top is 2. The following algorithm expresses the total length. \"Bw\" is the base width of the roof side.\n",
    "\n",
    "\\begin{equation}\n",
    "\\sum_{n=Bw}^{2} n-2\n",
    "\\end{equation}"
   ]
  },
  {
   "cell_type": "markdown",
   "metadata": {},
   "source": [
    "### Calculate the number of pegs per side"
   ]
  },
  {
   "cell_type": "code",
   "execution_count": 1,
   "metadata": {},
   "outputs": [],
   "source": [
    "def peg_width_per_levels(base_width):\n",
    "    limiter = 2\n",
    "    decrementer = -2\n",
    "    decrementing_width = int(base_width)\n",
    "    peg_count_per_level = []\n",
    "    while decrementing_width >= limiter:\n",
    "        peg_count_per_level.append(int(decrementing_width))\n",
    "        decrementing_width += decrementer\n",
    "    return peg_count_per_level"
   ]
  },
  {
   "cell_type": "markdown",
   "metadata": {},
   "source": [
    "### Calculate the number of pegs in the perimeter at a level"
   ]
  },
  {
   "cell_type": "code",
   "execution_count": 2,
   "metadata": {},
   "outputs": [],
   "source": [
    "def peg_perimeter(side_lengths):\n",
    "    return sum(side_lengths) - len(side_lengths)"
   ]
  },
  {
   "cell_type": "markdown",
   "metadata": {},
   "source": [
    "### Calculate the needed slope bricks per level"
   ]
  },
  {
   "cell_type": "code",
   "execution_count": 8,
   "metadata": {},
   "outputs": [],
   "source": [
    "def slope_bricks_per_level_per_side(side_length):\n",
    "    # Get the number of 4x2 slope bricks needed.\n",
    "    four_brick_count = int(side_length / 4)\n",
    "    remainder_bricks = side_length % 4 if side_length > 0 else 0\n",
    "    # Calculate the remainder bricks you need.\n",
    "    remainder_two_bricks = 1 if remainder_bricks > 1 else 0\n",
    "    remainder_one_bricks = remainder_bricks % 2\n",
    "    return four_brick_count, remainder_two_bricks, remainder_one_bricks\n",
    "\n",
    "def slope_bricks_per_level(side_lengths):\n",
    "    # If the sum of the sides minus the sides is not greater than the sides there's no need for corner bricks\n",
    "    # TODO: Define a better condition for calculating corners.\n",
    "    # TODO: Account for 3x3 corners and other slope angles.\n",
    "    corner_bricks = len(side_lengths) if peg_perimeter(side_lengths) > len(side_lengths) else 0\n",
    "    four_bricks = 0; two_bricks = 0; one_bricks = 0\n",
    "    for side_length in side_lengths:\n",
    "        # Each side has four pegs dedicated to corner slopes.\n",
    "        sans_corners = side_length - 4\n",
    "        four_bricks, two_bricks, one_bricks = tuple(map(sum, zip((four_bricks, two_bricks, one_bricks),\n",
    "                                                                 slope_bricks_per_level_per_side(sans_corners))))\n",
    "    return corner_bricks, int(four_bricks), int(two_bricks), int(one_bricks)"
   ]
  },
  {
   "cell_type": "markdown",
   "metadata": {},
   "source": [
    "### Calculate the amount of slope bricks needed in a square roof"
   ]
  },
  {
   "cell_type": "code",
   "execution_count": 9,
   "metadata": {},
   "outputs": [],
   "source": [
    "def bricks_per_square_roof(base_width):\n",
    "    corner_bricks = 0; four_bricks = 0; two_bricks = 0; one_bricks = 0\n",
    "    for level_length in peg_width_per_levels(base_width):\n",
    "        four_sides = [level_length for x in range(4)]\n",
    "        corner_bricks, four_bricks, two_bricks, one_bricks = tuple(map(sum, zip(slope_bricks_per_level(four_sides),\n",
    "                                                                               (corner_bricks, four_bricks, \n",
    "                                                                                two_bricks, one_bricks))))\n",
    "    return corner_bricks, four_bricks, two_bricks, one_bricks"
   ]
  },
  {
   "cell_type": "markdown",
   "metadata": {},
   "source": [
    "### Output the bricks needed to build a square roof"
   ]
  },
  {
   "cell_type": "code",
   "execution_count": 10,
   "metadata": {},
   "outputs": [],
   "source": [
    "from IPython.core.display import display, HTML\n",
    "from ipywidgets.widgets import IntText, Output"
   ]
  },
  {
   "cell_type": "code",
   "execution_count": 11,
   "metadata": {},
   "outputs": [],
   "source": [
    "def display_needed_bricks(base_width):\n",
    "    header = f'<tr><td colspan=\\\"2\\\" style=\\\"text-align:center\\\">Base width: {base_width}</td></tr>'\n",
    "    labels = (\"2x2 Corner\", \"4x2 Slope\", \"2x2 Slope\", \"1x2 Slope\")\n",
    "    bricks = bricks_per_square_roof(base_width)\n",
    "    rows = [f\"<tr>{c}</tr>\" for c in [f\"<td>{l}</td><td>{b}</td>\" for l, b in zip(labels, bricks)]]\n",
    "    display(HTML(f\"<table>{header}{''.join(rows)}</table>\"))"
   ]
  },
  {
   "cell_type": "markdown",
   "metadata": {},
   "source": [
    "### Choose your size"
   ]
  },
  {
   "cell_type": "code",
   "execution_count": 12,
   "metadata": {
    "scrolled": true
   },
   "outputs": [
    {
     "data": {
      "application/vnd.jupyter.widget-view+json": {
       "model_id": "ae8fdcdcede242c4925a08bf38f03caa",
       "version_major": 2,
       "version_minor": 0
      },
      "text/plain": [
       "IntText(value=0, description='Base width:')"
      ]
     },
     "metadata": {},
     "output_type": "display_data"
    },
    {
     "data": {
      "application/vnd.jupyter.widget-view+json": {
       "model_id": "9b8f1262de4b4dbdbc06a52787a11e19",
       "version_major": 2,
       "version_minor": 0
      },
      "text/plain": [
       "Output()"
      ]
     },
     "metadata": {},
     "output_type": "display_data"
    }
   ],
   "source": [
    "int_text = IntText(description=\"Base width:\")\n",
    "out_bricks = Output()\n",
    "\n",
    "display(int_text, out_bricks)\n",
    "\n",
    "def on_value_change(change):\n",
    "    out_bricks.clear_output()\n",
    "    with out_bricks:\n",
    "        display_needed_bricks(int(change[\"new\"]))\n",
    "    \n",
    "int_text.observe(on_value_change, names='value')"
   ]
  },
  {
   "cell_type": "code",
   "execution_count": null,
   "metadata": {},
   "outputs": [],
   "source": []
  }
 ],
 "metadata": {
  "kernelspec": {
   "display_name": "Python 3",
   "language": "python",
   "name": "python3"
  },
  "language_info": {
   "codemirror_mode": {
    "name": "ipython",
    "version": 3
   },
   "file_extension": ".py",
   "mimetype": "text/x-python",
   "name": "python",
   "nbconvert_exporter": "python",
   "pygments_lexer": "ipython3",
   "version": "3.8.1"
  }
 },
 "nbformat": 4,
 "nbformat_minor": 4
}
